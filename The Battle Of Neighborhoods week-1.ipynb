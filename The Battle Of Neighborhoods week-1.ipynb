{
 "cells": [
  {
   "cell_type": "markdown",
   "id": "bb162b8c-5f84-4db0-84f0-0d84af5977bf",
   "metadata": {},
   "source": [
    "# The Battle Of Neighborhoods week 1 "
   ]
  },
  {
   "cell_type": "markdown",
   "id": "c5ef261e-3515-4d1d-b145-7047ad39684b",
   "metadata": {},
   "source": [
    "**Introduction**"
   ]
  },
  {
   "cell_type": "markdown",
   "id": "810e82da-0eca-45ea-8f1b-19b74a6a287c",
   "metadata": {},
   "source": [
    "**Objective**\n",
    "The objective of this project is to find the best neighbourhood or place in Riyadh( A city in Saudi) to open a start up or Italian restaurant using Foursquare location data. In this project we’ll go through the solution for this problem for avoiding or considering low risk criteria and high success rate.<br>\n",
    "**Business Problem**<br>\n",
    "Business personnel who wants to invest or open a startup business or restaurant.<br> \n",
    "Students who want to stay in a good city where they can get each facilities what they want like GYM,Playground,Parlour,Movie theatre etc.<br>\n",
    "The freelancer who loves to have their own small company or restaurant as a side business.<br>\n",
    "Marketing companies who want to release a new product on a best place.<br>\n",
    "Researchers who want to create a camp for Survey. Torrists who wants to eat Yemeni food."
   ]
  },
  {
   "cell_type": "markdown",
   "id": "db8e689a-f8dd-480c-8179-81b660c65dbe",
   "metadata": {},
   "source": [
    "**Data Description**<br>\n",
    "For this project we need these following data:\n",
    "Riyadh City data that contains Borough, Neighborhoods along with there latitudes and longitudes Data Source: https://en.wikipedia.org/wiki/Postal_codes_in_Saudi_Arabia Description: This Wikipedia page contain all the information we need to explore and cluster the neighborhoods in Riyadh.\n",
    "We will be required to scrape the Wikipedia page and wrangle the data, clean it, and then read it into a pandas dataframe so that it is in a structured format like the Toronto dataset.\n",
    "Geographical Location data using Geocoder Package\n",
    "Description: The second source of data provided us with the Geographical coordinates of the neighbourhoods with the respective Postal Codes.\n",
    "Venue Data using Foursquare API\n",
    "Data Source: https://foursquare.com/developers/apps Description: From Foursquare API we can get the name,category,latitude,longitude for each venue.\n"
   ]
  },
  {
   "cell_type": "markdown",
   "id": "0bbc54ca-2c81-4a38-bb74-9b226876a1a0",
   "metadata": {},
   "source": [
    "**Interest to the problem**<br>\n",
    "As a resident of Saudi Arabia, I wish to explore, segment, and cluster the neighborhoods in the city of Riyadh based on the postalcode and borough information.. However, unlike New York,and Toronto the neighborhood data is not readily available on the internet. What is interesting about the field of data science is that each project can be challenging in its unique way, so we need to learn to be agile and refine the skill to learn new libraries and tools quickly depending on the project.<br>\n",
    "For the Riyadh neighborhood data, a Wikipedia page exists that has all the information we need to explore and cluster the neighborhoods in Riyadh. We will be required to scrape the Wikipedia page and wrangle the data, clean it, and then read it into a pandas dataframe so that it is in a structured format like the Toronto dataset.\n",
    "Once the data is in a structured format, we can replicate the analysis that we did to the Toronto City dataset to explore and cluster the neighborhoods in the city of Riyadh.\n"
   ]
  },
  {
   "cell_type": "markdown",
   "id": "6c0ea618-3f97-4718-bcf8-c76b4f3a5515",
   "metadata": {},
   "source": [
    "**Table of Content**<br>\n",
    "- Introduction\n",
    "- Import Libraries\n",
    "- Scrape Neighborhoods data\n",
    "- Data Pre-processing\n",
    "- Data Analysis\n",
    "- Clustering\n",
    "- Map Visualization\n",
    "- Conclusion"
   ]
  },
  {
   "cell_type": "markdown",
   "id": "44e19b65-2281-48fc-98f9-61abc9127e68",
   "metadata": {},
   "source": [
    "# The End of Week 1 Assignment"
   ]
  },
  {
   "cell_type": "code",
   "execution_count": null,
   "id": "c3f1156f-a706-419d-9749-981046d94714",
   "metadata": {},
   "outputs": [],
   "source": []
  }
 ],
 "metadata": {
  "kernelspec": {
   "display_name": "Python",
   "language": "python",
   "name": "conda-env-python-py"
  },
  "language_info": {
   "codemirror_mode": {
    "name": "ipython",
    "version": 3
   },
   "file_extension": ".py",
   "mimetype": "text/x-python",
   "name": "python",
   "nbconvert_exporter": "python",
   "pygments_lexer": "ipython3",
   "version": "3.6.13"
  }
 },
 "nbformat": 4,
 "nbformat_minor": 5
}
